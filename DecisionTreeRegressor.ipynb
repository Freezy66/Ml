{
 "cells": [
  {
   "cell_type": "code",
   "execution_count": 1,
   "id": "b2ffff5d",
   "metadata": {},
   "outputs": [],
   "source": [
    "import pandas as pd\n",
    "import numpy as np\n",
    "import time\n",
    "import functools\n",
    "\n",
    "from sklearn.datasets import load_diabetes\n",
    "from sklearn.model_selection import train_test_split\n",
    "from sklearn.tree import DecisionTreeRegressor\n",
    "from sklearn.metrics import mean_squared_error\n",
    "from sklearn import tree\n",
    "\n",
    "from typing import Any\n",
    "\n",
    "from matplotlib import pyplot as plt"
   ]
  },
  {
   "cell_type": "code",
   "execution_count": 2,
   "id": "98e92844",
   "metadata": {},
   "outputs": [],
   "source": [
    "data = load_diabetes(as_frame=True)\n",
    "X, y = data['data'], data['target']\n",
    "\n",
    "X_train, X_test, y_train, y_test = train_test_split(X, y, test_size=0.33, random_state=42)"
   ]
  },
  {
   "cell_type": "markdown",
   "id": "6b587382",
   "metadata": {},
   "source": [
    "### Модель дерева принятия решенией (регрессии), реализованная на Python с использованием библиотек Pandas и NumPy."
   ]
  },
  {
   "cell_type": "code",
   "execution_count": 3,
   "id": "acc89fe8",
   "metadata": {},
   "outputs": [],
   "source": [
    "class Node:\n",
    "    \"\"\"Вспомогательный класс для реализации структуры дерева\"\"\"\n",
    "    def __init__(self, \n",
    "                 column: str | None = None, \n",
    "                 value: float | None= None, \n",
    "                 left: Any = None, \n",
    "                 right: Any = None) -> None:\n",
    "        self.column = column\n",
    "        self.value = value\n",
    "        self.left = left\n",
    "        self.right = right\n",
    "\n",
    "class MyTreeReg:\n",
    "    \"\"\"\n",
    "    Дерево принятия решений, регрессия\n",
    "\n",
    "    Параметры:\n",
    "    max_depth : int\n",
    "        Максимальная глубина дерева, by default 5.\n",
    "    min_samples_split : int\n",
    "        Кол-во объектов в листе, чтобы его можно было разбить и превратить в узел by default 2.    \n",
    "    max_leafs : int\n",
    "        Максимальное количество листьев у дерева by default 20.\n",
    "    bins: int, optional\n",
    "        Количество бинов, разбивающее фичи при обучении, by default None.\n",
    "    ----------\n",
    "    Методы:\n",
    "    fit : построение регрессора дерева принятия решений из обучающего набора.\n",
    "    predict: получение прогнозируемых значений регрессии для датасета Х.\n",
    "    tree_traversal: отрисовка обученного дерева\n",
    "    feature_importances: получение массива важности фичей\n",
    "    \"\"\"\n",
    "    \n",
    "    @staticmethod\n",
    "    def timer(func):\n",
    "        @functools.wraps(func)\n",
    "        def wrapper(*args, **kwargs):\n",
    "            start = time.perf_counter()\n",
    "            val = func(*args, **kwargs)\n",
    "            end = time.perf_counter()\n",
    "            work_time = end - start\n",
    "            print(f'Время выполнения {func.__name__}: {round(work_time, 4)} сек.')\n",
    "            return val\n",
    "        return wrapper\n",
    "    \n",
    "    #Функция, вычисляющая MSE\n",
    "    @staticmethod\n",
    "    def __get_MSE(y: pd.Series) -> float:\n",
    "        \n",
    "        mse, n, y_mean = 0.0, y.shape[0], y.mean()\n",
    "        for obj in y:\n",
    "            mse += (obj - y_mean) ** 2\n",
    "        return mse / y.shape[0] if y.shape[0] != 0 else 0\n",
    "\n",
    "    def __init__(self, \n",
    "                 max_depth: int = 5, \n",
    "                 min_samples_split: int = 2, \n",
    "                 max_leafs: int = 20, \n",
    "                 bins: int | None = None) -> None:        \n",
    "        self.max_depth = max_depth\n",
    "        self.min_samples_split = min_samples_split\n",
    "        self.max_leafs = max_leafs\n",
    "        self.bins = bins\n",
    "        if self.max_leafs <= 1:\n",
    "            self.max_leafs = 2\n",
    "            self.max_depth = 1\n",
    "        # добавление словаря для подсчета feature importance\n",
    "        self.fi = {}\n",
    "        # все строки в наборе данных, необходимые для определения feature importance\n",
    "        self.N = 0\n",
    "        \n",
    "        self.split_values = {}\n",
    "        self.leafs_cnt = 1\n",
    "        self.leafs_sum = 0\n",
    "        self.tree_structure = Node()\n",
    "\n",
    "    def __str__(self) -> str:\n",
    "        atr = self.__dict__\n",
    "        res = ''.join([i + '=' + str(atr[i]) + ',' + ' ' for i in atr])[:-2]\n",
    "        return 'MyTreeReg class: ' + res\n",
    "    \n",
    "    #Вспомогательная функция. Ищет наилучшее разбиение датасета   \n",
    "    def __get_best_split(self, X: pd.DataFrame, y: pd.Series) -> (str, float, float):       \n",
    "  \n",
    "        if X.shape[0] != y.shape[0]: \n",
    "            raise ValueError(\"X and y must be the same size\")\n",
    "        \n",
    "        col_name, split_value, ig_max, ig_start = '', 0.0, 0.0, MyTreeReg().__get_MSE(y)\n",
    "        N = y.shape[0]\n",
    "        form_spliters = len(self.split_values) == 0\n",
    "        \n",
    "        #итеративный проход по фичам\n",
    "        for column in X.columns:\n",
    "            if form_spliters:\n",
    "                # формирование уникальных разделителей\n",
    "                vals = np.sort(X[column].unique())\n",
    "                if self.bins is not None and len(vals) - 1 >= self.bins:\n",
    "                    spliters = np.histogram(X[column], bins=self.bins)[1]#[1:-1]\n",
    "                else:\n",
    "                    spliters = np.convolve(vals, [0.5, 0.5], 'valid')\n",
    "                self.split_values[column] = spliters\n",
    "                \n",
    "            # поиск наилучшего прироста энтропии в фиче    \n",
    "            for spliter in self.split_values[column]:\n",
    "                left, right = X[X[column] <= spliter].index, X[X[column] > spliter].index\n",
    "                X_left, y_left = X.loc[left], y.loc[left]\n",
    "                X_right, y_right = X.loc[right], y.loc[right]\n",
    "                ig = ig_start - ((y_left.shape[0] / N) * MyTreeReg().__get_MSE(y_left) + \\\n",
    "                                (y_right.shape[0] / N) * MyTreeReg().__get_MSE(y_right))\n",
    "                if ig > ig_max:\n",
    "                    ig_max = ig\n",
    "                    col_name = column\n",
    "                    split_value = spliter\n",
    "                    \n",
    "        return col_name, split_value, ig_max\n",
    "    \n",
    "    #Функция, определяющая можно ли узел превратить в лист\n",
    "    #Возвращает True, если узел должен быть превращен лист, иначе False\n",
    "    def __is_leaf(self, y: pd.Series, depth: int) -> bool:\n",
    "        \n",
    "        \n",
    "        if y.shape[0] <= 1: return True\n",
    "        if depth == self.max_depth: return True\n",
    "        if y.shape[0] < self.min_samples_split: return True\n",
    "        if self.leafs_cnt > 1 and self.leafs_cnt >= self.max_leafs: return True\n",
    "        return False\n",
    "    \n",
    "    #Функция, формирующая дерево\n",
    "    def __form_tree(self, X: pd.DataFrame, y: pd.Series, node: Node, depth: int) -> None:\n",
    "        if not self.__is_leaf(y, depth):\n",
    "            col_name, split_value, ig = self.__get_best_split(X, y)\n",
    "            left, right = X[X[col_name] <= split_value].index, X[X[col_name] > split_value].index\n",
    "            X_left, y_left = X.loc[left], y.loc[left]\n",
    "            X_right, y_right = X.loc[right], y.loc[right]\n",
    "            self.fi[col_name] += X.shape[0] / self.N * ig\n",
    "            node.column, node.value = col_name, split_value\n",
    "            node.left = Node()\n",
    "            node.right = Node()\n",
    "            self.leafs_cnt += 1\n",
    "            self.__form_tree(X_left, y_left, node.left, depth + 1), self.__form_tree(X_right, y_right, node.right, depth + 1)\n",
    "        else:\n",
    "            node.value = y.mean()\n",
    "            self.leafs_sum += node.value\n",
    "            return node   \n",
    "\n",
    "    @timer\n",
    "    def fit(self, X: pd.DataFrame, y: pd.Series) -> None:\n",
    "        \"\"\"Обучение дерева принятия решений\n",
    "\n",
    "        Parameters\n",
    "        ----------\n",
    "        X : pd.DataFrame\n",
    "            Все фичи\n",
    "        y : pd.Series\n",
    "            Целевая переменная\n",
    "        \"\"\"\n",
    "        \n",
    "        if self.tree_structure.column: self.tree_structure == Node()\n",
    "        for feature in X.columns: self.fi[feature] = 0\n",
    "        self.N = X.shape[0]\n",
    "        self.__form_tree(X, y, self.tree_structure, 0)        \n",
    "        \n",
    "    #Предсказание для одной строки\n",
    "    def __predict_row(self, row: pd.Series) -> float:\n",
    "        tree = self.tree_structure\n",
    "        while tree.column:\n",
    "            if row[tree.column] <= tree.value:\n",
    "                tree = tree.left\n",
    "            else:\n",
    "                tree = tree.right\n",
    "        return tree.value    \n",
    "    \n",
    "    @timer\n",
    "    def predict(self, X: pd.DataFrame) -> np.array:\n",
    "        \"\"\"Выдача предсказаний моделью\n",
    "\n",
    "        Parameters\n",
    "        ----------\n",
    "        X : pd.DataFrame\n",
    "            Матрица фичей\n",
    "        \"\"\"\n",
    "        if self.tree_structure.column is None: raise UnfittedModel()\n",
    "        res = []\n",
    "        for row in X.index:\n",
    "            res.append(self.__predict_row(X.loc[row]))\n",
    "        return np.array(res)\n",
    "    \n",
    "    def tree_traversal(self, tree: Node = None, depth: int = 0, side: str = 'left') -> None:\n",
    "        \"\"\"Отрисовка полученного дерева принятия решений\"\"\"\n",
    "        \n",
    "        if tree is None:\n",
    "            tree = self.tree_structure\n",
    "        if tree.column is not None:\n",
    "            print(f\"{' ' * depth}{tree.column} > {tree.value}\")\n",
    "            if tree.left is not None:\n",
    "                self.tree_traversal(tree.left, depth + 1, 'left')\n",
    "            if tree.right is not None:\n",
    "                self.tree_traversal(tree.right, depth + 1, 'right')\n",
    "        else:\n",
    "            print(f\"{' ' * depth}{side} leaf = {tree.value}\")            \n",
    "            \n",
    "    def feature_importances(self) -> np.array:\n",
    "        arr = np.array([i for i in self.fi.values()])\n",
    "        t_min = 0\n",
    "        t_max = arr.max() / arr.sum()\n",
    "        norm_arr = []\n",
    "        diff = t_max - t_min\n",
    "        diff_arr = max(arr) - min(arr)    \n",
    "        for i in arr:\n",
    "            temp = (((i - min(arr))*diff)/diff_arr) + t_min\n",
    "            norm_arr.append(temp)\n",
    "        return np.array(norm_arr)"
   ]
  },
  {
   "cell_type": "code",
   "execution_count": 4,
   "id": "260d16a9",
   "metadata": {},
   "outputs": [
    {
     "name": "stdout",
     "output_type": "stream",
     "text": [
      "Время выполнения fit: 0.2543 сек.\n",
      "Время выполнения predict: 0.0025 сек.\n",
      "Значение MSE: 3081.0919378894696\n"
     ]
    }
   ],
   "source": [
    "arguments = {\"max_depth\": 4, \"min_samples_split\": 50, \"max_leafs\": 17, 'bins': 5}\n",
    "my_tree = MyTreeReg(**arguments)\n",
    "my_tree.fit(X_train, y_train)\n",
    "y_pred = my_tree.predict(X_test)\n",
    "print(f'Значение MSE: {mean_squared_error(y_test, y_pred)}')"
   ]
  },
  {
   "cell_type": "code",
   "execution_count": 5,
   "id": "2fca32af",
   "metadata": {},
   "outputs": [
    {
     "name": "stdout",
     "output_type": "stream",
     "text": [
      "bmi > 0.010823476631509552\n",
      " s5 > -0.009180401757927212\n",
      "  s3 > 0.01108739384846183\n",
      "   left leaf = 114.77083333333333\n",
      "   sex > 0.003019241116414738\n",
      "    left leaf = 98.92857142857143\n",
      "    right leaf = 71.1\n",
      "  s3 > -0.04560982833447707\n",
      "   left leaf = 184.0625\n",
      "   s6 > 0.026260208137441426\n",
      "    left leaf = 130.84444444444443\n",
      "    right leaf = 162.8\n",
      " bp > 0.03426664902709402\n",
      "  bmi > 0.11084443708764775\n",
      "   s6 > 0.026260208137441426\n",
      "    left leaf = 161.45\n",
      "    right leaf = 215.65\n",
      "   right leaf = 306.6666666666667\n",
      "  right leaf = 240.97619047619048\n"
     ]
    }
   ],
   "source": [
    "#отрисовка дерева\n",
    "my_tree.tree_traversal()"
   ]
  },
  {
   "cell_type": "code",
   "execution_count": 6,
   "id": "5cbfbba4",
   "metadata": {},
   "outputs": [
    {
     "name": "stdout",
     "output_type": "stream",
     "text": [
      "Массив feature importance: \n",
      " [0.         0.01243882 0.65434648 0.09170745 0.         0.\n",
      " 0.04840885 0.         0.12990097 0.06319742]\n"
     ]
    },
    {
     "data": {
      "image/png": "[encoded data removed]",
      "text/plain": [
       "<Figure size 640x480 with 1 Axes>"
      ]
     },
     "metadata": {},
     "output_type": "display_data"
    }
   ],
   "source": [
    "#feature importance\n",
    "print('Массив feature importance:', '\\n', my_tree.feature_importances())\n",
    "\n",
    "features = X.columns\n",
    "importances = my_tree.feature_importances()\n",
    "indices = np.argsort(importances)\n",
    "\n",
    "plt.title('Feature Importances')\n",
    "plt.barh(range(len(indices)), importances[indices], color='b', align='center')\n",
    "plt.yticks(range(len(indices)), [features[i] for i in indices])\n",
    "plt.xlabel('Relative Importance')\n",
    "plt.show()"
   ]
  },
  {
   "cell_type": "markdown",
   "id": "912ba48a",
   "metadata": {},
   "source": [
    "### Модель дерева принятия решений, реализованная с использованием sklearn"
   ]
  },
  {
   "cell_type": "code",
   "execution_count": 7,
   "id": "9dd1fdaf",
   "metadata": {},
   "outputs": [
    {
     "name": "stdout",
     "output_type": "stream",
     "text": [
      "Значение MSE: 4101.447479060349\n"
     ]
    }
   ],
   "source": [
    "tree_sklearn = DecisionTreeRegressor(max_leaf_nodes=17, min_samples_split=50, max_depth=4)\n",
    "y_pred_sklearn = tree_sklearn.fit(X_train, y_train).predict(X_test)\n",
    "print(f'Значение MSE: {mean_squared_error(y_test, y_pred_sklearn)}')"
   ]
  },
  {
   "cell_type": "code",
   "execution_count": 8,
   "id": "4d9e1f35",
   "metadata": {},
   "outputs": [
    {
     "name": "stdout",
     "output_type": "stream",
     "text": [
      "|--- feature_2 <= 0.01\n",
      "|   |--- feature_8 <= -0.00\n",
      "|   |   |--- feature_5 <= 0.09\n",
      "|   |   |   |--- feature_8 <= -0.04\n",
      "|   |   |   |   |--- value: [79.15]\n",
      "|   |   |   |--- feature_8 >  -0.04\n",
      "|   |   |   |   |--- value: [107.58]\n",
      "|   |   |--- feature_5 >  0.09\n",
      "|   |   |   |--- value: [241.50]\n",
      "|   |--- feature_8 >  -0.00\n",
      "|   |   |--- feature_7 <= 0.10\n",
      "|   |   |   |--- feature_0 <= 0.10\n",
      "|   |   |   |   |--- value: [146.30]\n",
      "|   |   |   |--- feature_0 >  0.10\n",
      "|   |   |   |   |--- value: [277.00]\n",
      "|   |   |--- feature_7 >  0.10\n",
      "|   |   |   |--- value: [256.33]\n",
      "|--- feature_2 >  0.01\n",
      "|   |--- feature_2 <= 0.07\n",
      "|   |   |--- feature_3 <= 0.02\n",
      "|   |   |   |--- value: [160.72]\n",
      "|   |   |--- feature_3 >  0.02\n",
      "|   |   |   |--- value: [223.00]\n",
      "|   |--- feature_2 >  0.07\n",
      "|   |   |--- value: [273.73]\n",
      "\n"
     ]
    }
   ],
   "source": [
    "text_representation = tree.export_text(tree_sklearn)\n",
    "print(text_representation)"
   ]
  },
  {
   "cell_type": "code",
   "execution_count": 9,
   "id": "4530800d",
   "metadata": {},
   "outputs": [
    {
     "name": "stdout",
     "output_type": "stream",
     "text": [
      "Массив feature importance: \n",
      " [0.01745434 0.         0.66809692 0.08720323 0.         0.04235234\n",
      " 0.         0.03482588 0.15006728 0.        ]\n"
     ]
    },
    {
     "data": {
      "image/png": "[encoded data removed]",
      "text/plain": [
       "<Figure size 640x480 with 1 Axes>"
      ]
     },
     "metadata": {},
     "output_type": "display_data"
    }
   ],
   "source": [
    "print('Массив feature importance:', '\\n', tree_sklearn.feature_importances_)\n",
    "\n",
    "features = X.columns\n",
    "importances = tree_sklearn.feature_importances_\n",
    "indices = np.argsort(importances)\n",
    "\n",
    "plt.title('Feature Importances')\n",
    "plt.barh(range(len(indices)), importances[indices], color='b', align='center')\n",
    "plt.yticks(range(len(indices)), [features[i] for i in indices])\n",
    "plt.xlabel('Relative Importance')\n",
    "plt.show()"
   ]
  }
 ],
 "metadata": {
  "kernelspec": {
   "display_name": "Python 3 (ipykernel)",
   "language": "python",
   "name": "python3"
  },
  "language_info": {
   "codemirror_mode": {
    "name": "ipython",
    "version": 3
   },
   "file_extension": ".py",
   "mimetype": "text/x-python",
   "name": "python",
   "nbconvert_exporter": "python",
   "pygments_lexer": "ipython3",
   "version": "3.11.7"
  }
 },
 "nbformat": 4,
 "nbformat_minor": 5
}
