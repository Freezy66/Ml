{
 "cells": [
  {
   "cell_type": "markdown",
   "id": "849a9ff8",
   "metadata": {},
   "source": [
    "Метод ближащих соседей (классификация и регрессия), реализованный на Python с использованием библиотек Pandas и NumPy."
   ]
  },
  {
   "cell_type": "code",
   "execution_count": 1,
   "id": "16f3ff27",
   "metadata": {},
   "outputs": [],
   "source": [
    "import pandas as pd\n",
    "import numpy as np\n",
    "import time\n",
    "import functools\n",
    "\n",
    "from sklearn.datasets import make_regression, make_classification\n",
    "from sklearn.model_selection import train_test_split\n",
    "\n",
    "from sklearn.metrics import r2_score, precision_score\n",
    "from sklearn.neighbors import KNeighborsClassifier, KNeighborsRegressor"
   ]
  },
  {
   "cell_type": "markdown",
   "id": "71d15195",
   "metadata": {},
   "source": [
    "Метод ближайших соседей, регрессия"
   ]
  },
  {
   "cell_type": "code",
   "execution_count": 2,
   "id": "d30438e3",
   "metadata": {},
   "outputs": [],
   "source": [
    "X, y = make_regression(n_samples=10000, n_features=15, n_informative=10, random_state=42)\n",
    "X = pd.DataFrame(X)\n",
    "y = pd.Series(y)\n",
    "X.columns = [f'col_{col}' for col in X.columns]\n",
    "\n",
    "X_train, X_test, y_train, y_test = train_test_split(X, y, test_size=0.2, random_state=42)"
   ]
  },
  {
   "cell_type": "code",
   "execution_count": 3,
   "id": "6e0eb55e",
   "metadata": {},
   "outputs": [],
   "source": [
    "class MyKNNReg:\n",
    "     \"\"\"\n",
    "    Метод ближащих соседей (регрессия)\n",
    "\n",
    "    Parameters\n",
    "    ----------\n",
    "    k : int\n",
    "        Количество ближайших соседей, by default 3\n",
    "    metric : str, optional\n",
    "        Метрика, которая будет вычисляться параллельно с функцией потерь.\n",
    "        Принимает одно из следующих значений: euclidean, chebyshev, manhattan, cosine\n",
    "    weights : np.ndarray, optional\n",
    "        Веса модели\n",
    "    metric : str, optional\n",
    "        Метрика, которая будет вычисляться параллельно с функцией потерь.\n",
    "        Принимает одно из следующих значений: mae, mse, rmse, mape, r2    \n",
    "    \"\"\"\n",
    "     @staticmethod\n",
    "     def timer(func):\n",
    "        @functools.wraps(func)\n",
    "        def wrapper(*args, **kwargs):\n",
    "            start = time.perf_counter()\n",
    "            val = func(*args, **kwargs)\n",
    "            end = time.perf_counter()\n",
    "            work_time = end - start\n",
    "            print(f'Время выполнения {func.__name__}: {round(work_time, 4)} сек.')\n",
    "            return val\n",
    "        return wrapper   \n",
    "        \n",
    "     def __init__(self, k: int = 5, metric: str = 'euclidean', weight: np.array = 'uniform') -> None:\n",
    "        self.k = k\n",
    "        self.train_size = None\n",
    "        self.metric = metric\n",
    "        self.metrics = {\n",
    "            'euclidean': lambda test, train: np.sqrt(np.sum((test - train) ** 2, axis=-1)),\n",
    "            'chebyshev': lambda test, train: np.max(np.abs(test - train), axis=-1),\n",
    "            'manhattan':  lambda test, train: np.sum(np.abs(test - train), axis=-1),\n",
    "            'cosine':  lambda test, train: 1 - np.sum(test * train, axis=-1) / (np.sqrt(np.sum(test ** 2, axis=-1)) * (np.sqrt(np.sum(train ** 2, axis=-1))))\n",
    "         }\n",
    "        self.weight = weight\n",
    "        \n",
    "     def __repr__(self) -> str:\n",
    "        return f\"MyKNNClf class: k={self.k}\"\n",
    "     \n",
    "     @timer\n",
    "     def fit(self, X: pd.DataFrame, y: pd.Series) -> None:\n",
    "        \"\"\"Обучение KNN\n",
    "\n",
    "        Parameters\n",
    "        ----------\n",
    "        X : pd.DataFrame\n",
    "            Все фичи\n",
    "        y : pd.Series\n",
    "            Целевая переменная\n",
    "        \"\"\"\n",
    "        self.X = X.to_numpy()\n",
    "        self.y = y.to_numpy()\n",
    "        self.train_size = self.X.shape        \n",
    "     @timer\n",
    "     def predict(self, X: pd.DataFrame) -> np.array:\n",
    "        \"\"\"Выдача предсказаных значений моделью\n",
    "\n",
    "        Parameters\n",
    "        ----------\n",
    "        X : pd.DataFrame\n",
    "            Матрица фичей\n",
    "        \"\"\"\n",
    "        train = np.expand_dims(self.X, axis=0)\n",
    "        test = np.expand_dims(X.to_numpy(), axis=1)\n",
    "        distances = self.metrics[self.metric](train, test)\n",
    "        indx = np.argsort(distances)[:, :self.k]\n",
    "        dist = np.sort(distances)[:, :self.k]\n",
    "        \n",
    "        return self.__get_proba(indx, distances) \n",
    "    \n",
    "     def __get_proba(self, indx: int, dist: float):\n",
    "        proba_formulas = {\n",
    "            \"uniform\": np.mean(self.y[indx], axis=1),\n",
    "            \"rank\": np.sum(self.y[indx] / np.arange(1, self.k + 1), axis=1) / np.sum(1 / np.arange(1, self.k + 1)),\n",
    "           } \n",
    "        \n",
    "        return proba_formulas[self.weight]\n"
   ]
  },
  {
   "cell_type": "code",
   "execution_count": 4,
   "id": "56095115",
   "metadata": {},
   "outputs": [
    {
     "name": "stdout",
     "output_type": "stream",
     "text": [
      "Время выполнения fit: 0.0001 сек.\n",
      "Время выполнения predict: 2.8526 сек.\n",
      "0.8028375607764501\n"
     ]
    }
   ],
   "source": [
    "knn = MyKNNReg(k=5)\n",
    "knn.fit(X_train, y_train)\n",
    "y_pred = knn.predict(X_test)\n",
    "print(r2_score(y_test, y_pred))"
   ]
  },
  {
   "cell_type": "code",
   "execution_count": 5,
   "id": "afd7cc19",
   "metadata": {},
   "outputs": [
    {
     "name": "stdout",
     "output_type": "stream",
     "text": [
      "0.8028375607764501\n"
     ]
    }
   ],
   "source": [
    "y_pred_sklearn = KNeighborsRegressor().fit(X_train, y_train).predict(X_test)\n",
    "print(r2_score(y_test, y_pred_sklearn))"
   ]
  },
  {
   "cell_type": "markdown",
   "id": "4fdc77c7",
   "metadata": {},
   "source": [
    "Метод ближайших соседей, классификация"
   ]
  },
  {
   "cell_type": "code",
   "execution_count": 6,
   "id": "b19c2db4",
   "metadata": {},
   "outputs": [],
   "source": [
    "X, y = make_classification(n_samples=10000, n_features=15, n_informative=10, random_state=42)\n",
    "X = pd.DataFrame(X)\n",
    "y = pd.Series(y)\n",
    "X.columns = [f'col_{col}' for col in X.columns]\n",
    "\n",
    "X_train, X_test, y_train, y_test = train_test_split(X, y, test_size=0.2, random_state=42)"
   ]
  },
  {
   "cell_type": "code",
   "execution_count": 7,
   "id": "dd9f18a5",
   "metadata": {},
   "outputs": [],
   "source": [
    "class MyKNNClf:\n",
    "    \"\"\"\n",
    "    Метод ближащих соседей (классификация)\n",
    "\n",
    "    Parameters\n",
    "    ----------\n",
    "    k : int\n",
    "        Количество ближайших соседей, by default 3\n",
    "    metric : str, optional\n",
    "        Метрика, которая будет вычисляться параллельно с функцией потерь.\n",
    "        Принимает одно из следующих значений: euclidean, chebyshev, manhattan, cosine\n",
    "    weights : np.ndarray, optional\n",
    "        Веса модели\n",
    "    metric : str, optional\n",
    "        Метрика, которая будет вычисляться параллельно с функцией потерь.\n",
    "        Принимает одно из следующих значений: mae, mse, rmse, mape, r2    \n",
    "    \"\"\"\n",
    "    @staticmethod\n",
    "    def timer(func):\n",
    "        @functools.wraps(func)\n",
    "        def wrapper(*args, **kwargs):\n",
    "            start = time.perf_counter()\n",
    "            val = func(*args, **kwargs)\n",
    "            end = time.perf_counter()\n",
    "            work_time = end - start\n",
    "            print(f'Время выполнения {func.__name__}: {round(work_time, 4)} сек.')\n",
    "            return val\n",
    "        return wrapper   \n",
    "    \n",
    "    def __init__(self, k: int = 3, metric: str = 'euclidean', weight: np.array = 'uniform'):\n",
    "        self.k = k\n",
    "        self.train_size = None\n",
    "        self.metric = metric\n",
    "        self.metrics = {\n",
    "            'euclidean': lambda test, train: np.sqrt(np.sum((test - train) ** 2, axis=-1)),\n",
    "            'chebyshev': lambda test, train: np.max(np.abs(test - train), axis=-1),\n",
    "            'manhattan':  lambda test, train: np.sum(np.abs(test - train), axis=-1),\n",
    "            'cosine':  lambda test, train: 1 - np.sum(test * train, axis=-1) / (np.sqrt(np.sum(test ** 2, axis=-1)) * (np.sqrt(np.sum(train ** 2, axis=-1))))\n",
    "         }\n",
    "        self.weight = weight\n",
    "        \n",
    "    def __repr__(self) -> str:\n",
    "        return f\"MyKNNClf class: k={self.k}\"\n",
    "    \n",
    "    @timer\n",
    "    def fit(self, X: pd.DataFrame, y: pd.Series) -> None:\n",
    "        \"\"\"Обучение KNN\n",
    "\n",
    "        Parameters\n",
    "        ----------\n",
    "        X : pd.DataFrame\n",
    "            Все фичи\n",
    "        y : pd.Series\n",
    "            Целевая переменная\n",
    "        \"\"\"\n",
    "        self.X = X.to_numpy()\n",
    "        self.y = y.to_numpy()\n",
    "        self.train_size = self.X.shape   \n",
    "        \n",
    "    def predict_proba(self, X: pd.DataFrame) -> np.array:\n",
    "        \"\"\"Выдача предсказаных значений моделью\n",
    "\n",
    "        Parameters\n",
    "        ----------\n",
    "        X : pd.DataFrame\n",
    "            Матрица фичей\n",
    "        \"\"\"\n",
    "        train = np.expand_dims(self.X, axis=0)\n",
    "        test = np.expand_dims(X.to_numpy(), axis=1)\n",
    "        distances = self.metrics[self.metric](train, test)\n",
    "        indx = np.argsort(distances)[:, :self.k]\n",
    "        dist = np.sort(distances)[:, :self.k]\n",
    "        \n",
    "        return self.__get_proba(indx, distances) \n",
    "    \n",
    "    @timer\n",
    "    def predict(self, X: pd.DataFrame) -> np.array:\n",
    "        \"\"\"Выдача предсказаных классов моделью\n",
    "\n",
    "        Parameters\n",
    "        ----------\n",
    "        X : pd.DataFrame\n",
    "            Матрица фичей\n",
    "        \"\"\"\n",
    "        return np.array([1 if prob >= 0.5 else 0 for prob in self.predict_proba(X)])\n",
    "    \n",
    "    def __get_proba(self, indx: int, dist: float) -> np.array:\n",
    "        proba_formulas = {\n",
    "            \"uniform\": np.mean(self.y[indx], axis=1),\n",
    "            \"rank\": np.sum(self.y[indx] / np.arange(1, self.k + 1), axis=1) / np.sum(1 / np.arange(1, self.k + 1))            \n",
    "        } \n",
    "        \n",
    "        return proba_formulas[self.weight]"
   ]
  },
  {
   "cell_type": "code",
   "execution_count": 8,
   "id": "6a94a7ab",
   "metadata": {},
   "outputs": [
    {
     "name": "stdout",
     "output_type": "stream",
     "text": [
      "Время выполнения fit: 0.0001 сек.\n",
      "Время выполнения predict: 2.927 сек.\n",
      "0.9318181818181818\n"
     ]
    }
   ],
   "source": [
    "knn = MyKNNClf(k=5)\n",
    "knn.fit(X_train, y_train)\n",
    "y_pred = knn.predict(X_test)\n",
    "print(precision_score(y_test, y_pred))"
   ]
  },
  {
   "cell_type": "code",
   "execution_count": 9,
   "id": "ae1e55cc",
   "metadata": {},
   "outputs": [
    {
     "name": "stdout",
     "output_type": "stream",
     "text": [
      "0.9318181818181818\n"
     ]
    }
   ],
   "source": [
    "y_pred_sklearn = KNeighborsClassifier().fit(X_train, y_train).predict(X_test)\n",
    "print(precision_score(y_test, y_pred_sklearn))"
   ]
  }
 ],
 "metadata": {
  "kernelspec": {
   "display_name": "Python 3.11 (XPython)",
   "language": "python",
   "name": "xpython"
  },
  "language_info": {
   "file_extension": ".py",
   "mimetype": "text/x-python",
   "name": "python",
   "version": "3.11.7"
  }
 },
 "nbformat": 4,
 "nbformat_minor": 5
}
